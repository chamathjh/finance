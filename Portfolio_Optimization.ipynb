{
  "nbformat": 4,
  "nbformat_minor": 0,
  "metadata": {
    "colab": {
      "provenance": [],
      "authorship_tag": "ABX9TyPhpoh5UBRe2NqdAPCQXY2v",
      "include_colab_link": true
    },
    "kernelspec": {
      "name": "python3",
      "display_name": "Python 3"
    },
    "language_info": {
      "name": "python"
    }
  },
  "cells": [
    {
      "cell_type": "markdown",
      "metadata": {
        "id": "view-in-github",
        "colab_type": "text"
      },
      "source": [
        "<a href=\"https://colab.research.google.com/github/chamathjh/finance/blob/main/Mean_Variance_Portfolio_Optimization.ipynb\" target=\"_parent\"><img src=\"https://colab.research.google.com/assets/colab-badge.svg\" alt=\"Open In Colab\"/></a>"
      ]
    },
    {
      "cell_type": "markdown",
      "source": [
        "#Mean Variance Portfolio Optimization\n",
        "\n",
        "---\n",
        "\n",
        "The mean-variance portfolio approach involves adjusting the weights of stocks in a portfolio to optimize the return relative to the risk. To achieve this, certain parameters must be estimated, including the expected return for each stock and the variance-covariance matrix of the stock returns. These parameters are necessary when assuming normal distribution or quadratic utility functions for investors. Once the parameters are determined, the portfolio variance is minimized given a target expected return, or equivalently, the expected return is maximized given the portfolio variance. This nonlinear optimization process results in the efficient frontier. Lastly, assuming a risk-free rate, the portfolio point on the frontier with the highest Sharpe ratio is identified."
      ],
      "metadata": {
        "id": "rdn-l-wJJQGk"
      }
    },
    {
      "cell_type": "markdown",
      "source": [
        "##Installing Packages"
      ],
      "metadata": {
        "id": "qGXumChoBFu4"
      }
    },
    {
      "cell_type": "code",
      "source": [
        "!pip install PyPortfolioOpt\n",
        "!pip install yfinance\n",
        "!pip install tabulate"
      ],
      "metadata": {
        "id": "j3Pa9INgBPL7"
      },
      "execution_count": null,
      "outputs": []
    },
    {
      "cell_type": "markdown",
      "source": [
        "##Load Python Libraries"
      ],
      "metadata": {
        "id": "NpFDQ6oUChO3"
      }
    },
    {
      "cell_type": "code",
      "source": [
        "import numpy as np\n",
        "import pandas as pd\n",
        "from pandas_datareader import data as pdr\n",
        "import datetime as dt\n",
        "import yfinance as yf\n",
        "from matplotlib import pyplot as plt\n",
        "from pypfopt import EfficientFrontier\n",
        "from pypfopt import risk_models\n",
        "from pypfopt import expected_returns\n",
        "from pypfopt import plotting\n",
        "from tabulate import tabulate\n",
        "import requests\n",
        "from bs4 import BeautifulSoup"
      ],
      "metadata": {
        "id": "ExW7PhdCBzpc"
      },
      "execution_count": null,
      "outputs": []
    },
    {
      "cell_type": "markdown",
      "source": [
        "##Establishing Model Environment\n",
        "\n",
        "We start by defining the model environment, which includes retrieving stock price data from Yahoo Finance through yfinance API for the tickers mentioned below. Note that the adjusted closing price has been extracted to form the dataframe."
      ],
      "metadata": {
        "id": "0bbDJcqcV4fA"
      }
    },
    {
      "cell_type": "code",
      "source": [
        "#Defining a function to retrieve data from Yahoo Finance\n",
        "def get_data(stocks,start_date,end_date):\n",
        "  stock_data= yf.download(stocks, start=start_date, end=end_date)[\"Adj Close\"]\n",
        "  return stock_data"
      ],
      "metadata": {
        "id": "jJew8PBNETMv"
      },
      "execution_count": null,
      "outputs": []
    },
    {
      "cell_type": "markdown",
      "source": [
        "The period used for this model is dynamic as it is defined to retrive the latest available data from the exchange, starting from the **start_date** mentioned below."
      ],
      "metadata": {
        "id": "-KFNjzvLeSvi"
      }
    },
    {
      "cell_type": "code",
      "source": [
        "#Defining data period\n",
        "start_date=\"2020-01-01\"\n",
        "end_date= dt.datetime.now().strftime(\"%Y-%m-%d\")"
      ],
      "metadata": {
        "id": "C3KYV5QRGdFC"
      },
      "execution_count": null,
      "outputs": []
    },
    {
      "cell_type": "markdown",
      "source": [
        "The following stocks trading on Nasdaq Stockholm(OMXS30) were chosen for this exercise.\n",
        "* AstraZeneca (AZN.ST)\n",
        "* Atlas Copco AB (ATCO-B.ST)\n",
        "* ABB Ltd. (ABB.ST)\n",
        "* Investor AB (INVE-B.ST)\n",
        "* AB Volvo (VOLV-B.ST)\n",
        "* Nordea Bank ABP (NDA-SE.ST)"
      ],
      "metadata": {
        "id": "5f4UfG_zbSCy"
      }
    },
    {
      "cell_type": "code",
      "source": [
        "#Defining the set of stock tickers\n",
        "stocks = [\"AZN.ST\", \"ATCO-B.ST\", \"ABB.ST\", \"INVE-B.ST\", \"VOLV-B.ST\", \"NDA-SE.ST\"]"
      ],
      "metadata": {
        "id": "uqIUx_akLN4E"
      },
      "execution_count": null,
      "outputs": []
    },
    {
      "cell_type": "code",
      "source": [
        "#Downloading stock data\n",
        "stock_df = get_data(stocks, start_date, end_date)\n",
        "print(stock_df)"
      ],
      "metadata": {
        "colab": {
          "base_uri": "https://localhost:8080/"
        },
        "id": "ZVPZzQcKH04t",
        "outputId": "79d00b95-a370-4260-b40b-d43d4f08ad53"
      },
      "execution_count": null,
      "outputs": [
        {
          "output_type": "stream",
          "name": "stdout",
          "text": [
            "[*********************100%***********************]  6 of 6 completed\n",
            "                ABB.ST   ATCO-B.ST       AZN.ST   INVE-B.ST   NDA-SE.ST  \\\n",
            "Date                                                                      \n",
            "2020-01-02  224.803131   70.861885   935.406555  121.484901   75.626678   \n",
            "2020-01-03  224.212296   69.697784   935.605164  120.137657   74.907249   \n",
            "2020-01-07  226.378601   70.057610   938.781067  120.323479   74.771149   \n",
            "2020-01-08  226.870956   69.951782   936.399109  120.277023   74.372543   \n",
            "2020-01-09  226.378601   70.565567   943.644165  121.252609   74.625320   \n",
            "...                ...         ...          ...         ...         ...   \n",
            "2023-05-31         NaN  136.600006          NaN  220.649994  106.680000   \n",
            "2023-06-01  400.899994  135.699997  1581.500000  221.750000  108.459999   \n",
            "2023-06-02  403.500000  137.600006  1579.000000  221.800003  110.699997   \n",
            "2023-06-05  406.799988  137.449997  1590.500000  220.350006  110.519997   \n",
            "2023-06-07  408.000000  137.350006  1591.500000  219.699997  113.260002   \n",
            "\n",
            "             VOLV-B.ST  \n",
            "Date                    \n",
            "2020-01-02  131.178085  \n",
            "2020-01-03  128.281143  \n",
            "2020-01-07  129.382812  \n",
            "2020-01-08  130.158035  \n",
            "2020-01-09  127.954742  \n",
            "...                ...  \n",
            "2023-05-31  200.250000  \n",
            "2023-06-01  202.850006  \n",
            "2023-06-02  207.850006  \n",
            "2023-06-05  209.500000  \n",
            "2023-06-07  212.300003  \n",
            "\n",
            "[865 rows x 6 columns]\n"
          ]
        }
      ]
    },
    {
      "cell_type": "markdown",
      "source": [
        "Plotting the stock price behavior during the observed period."
      ],
      "metadata": {
        "id": "oWvXotoDgtAc"
      }
    },
    {
      "cell_type": "code",
      "source": [
        "plt.plot(stock_df.iloc[:,0:6])\n",
        "plt.legend(stock_df)\n",
        "plt.xlabel('Time')\n",
        "plt.ylabel('Adj. Closing Stock Price ($)')\n",
        "plt.title('Stock Price Movement from {} to {}'.format(start_date,end_date))\n",
        "plt.show()"
      ],
      "metadata": {
        "colab": {
          "base_uri": "https://localhost:8080/",
          "height": 472
        },
        "id": "2UMJ7JM7Yo6h",
        "outputId": "70c02a2f-abc0-4b13-9057-4bcebe19fe91"
      },
      "execution_count": null,
      "outputs": [
        {
          "output_type": "display_data",
          "data": {
            "text/plain": [
              "<Figure size 640x480 with 1 Axes>"
            ],
            "image/png": "[encoded data removed]"
          },
          "metadata": {}
        }
      ]
    },
    {
      "cell_type": "markdown",
      "source": [
        "It's clearly visible from the graph AstraZeneca has been trading at a higher value than the rest, but has followed a similar path over the selected time period."
      ],
      "metadata": {
        "id": "UZyiltk3hGCy"
      }
    },
    {
      "cell_type": "markdown",
      "source": [
        "##Portfolio Optimization\n",
        "\n",
        "Now we need to calculate stock returns using the `pct_change()` function"
      ],
      "metadata": {
        "id": "I9298ErWTovL"
      }
    },
    {
      "cell_type": "code",
      "source": [
        "#Calculating stock_returns\n",
        "stock_returns = stock_df.pct_change()\n",
        "print(stock_returns)"
      ],
      "metadata": {
        "colab": {
          "base_uri": "https://localhost:8080/"
        },
        "id": "oXwviYaMUX5y",
        "outputId": "eef14054-925a-4f84-e9c0-d673cb2cfd71"
      },
      "execution_count": null,
      "outputs": [
        {
          "output_type": "stream",
          "name": "stdout",
          "text": [
            "              ABB.ST  ATCO-B.ST    AZN.ST  INVE-B.ST  NDA-SE.ST  VOLV-B.ST\n",
            "Date                                                                      \n",
            "2020-01-02       NaN        NaN       NaN        NaN        NaN        NaN\n",
            "2020-01-03 -0.002628  -0.016428  0.000212  -0.011090  -0.009513  -0.022084\n",
            "2020-01-07  0.009662   0.005163  0.003394   0.001547  -0.001817   0.008588\n",
            "2020-01-08  0.002175  -0.001511 -0.002537  -0.000386  -0.005331   0.005992\n",
            "2020-01-09 -0.002170   0.008774  0.007737   0.008111   0.003399  -0.016928\n",
            "...              ...        ...       ...        ...        ...        ...\n",
            "2023-05-31  0.000000  -0.010862  0.000000   0.003411  -0.009287  -0.009889\n",
            "2023-06-01 -0.011100  -0.006589  0.016715   0.004985   0.016685   0.012984\n",
            "2023-06-02  0.006485   0.014002 -0.001581   0.000225   0.020653   0.024649\n",
            "2023-06-05  0.008178  -0.001090  0.007283  -0.006537  -0.001626   0.007938\n",
            "2023-06-07  0.002950  -0.000727  0.000629  -0.002950   0.024792   0.013365\n",
            "\n",
            "[865 rows x 6 columns]\n"
          ]
        }
      ]
    },
    {
      "cell_type": "code",
      "source": [
        "#Calculating expected return for the stock data using the expected_return module in pypfopt library\n",
        "mu= expected_returns.mean_historical_return(stock_df)\n",
        "print(mu)"
      ],
      "metadata": {
        "colab": {
          "base_uri": "https://localhost:8080/"
        },
        "id": "qRcdgcHrT5GW",
        "outputId": "895e3dea-f5c0-4756-ae33-b8c7e1d2637b"
      },
      "execution_count": null,
      "outputs": [
        {
          "output_type": "stream",
          "name": "stdout",
          "text": [
            "ABB.ST       0.189872\n",
            "ATCO-B.ST    0.212913\n",
            "AZN.ST       0.167666\n",
            "INVE-B.ST    0.188634\n",
            "NDA-SE.ST    0.125016\n",
            "VOLV-B.ST    0.150759\n",
            "dtype: float64\n"
          ]
        }
      ]
    },
    {
      "cell_type": "code",
      "source": [
        "#Deriving the covariance matrix\n",
        "returns_cov = stock_returns.cov()*252\n",
        "print(returns_cov)"
      ],
      "metadata": {
        "colab": {
          "base_uri": "https://localhost:8080/"
        },
        "id": "6Bxmwlv2VPwS",
        "outputId": "1aff5d16-f2cc-4361-a53c-f0c91480dfc9"
      },
      "execution_count": null,
      "outputs": [
        {
          "output_type": "stream",
          "name": "stdout",
          "text": [
            "             ABB.ST  ATCO-B.ST    AZN.ST  INVE-B.ST  NDA-SE.ST  VOLV-B.ST\n",
            "ABB.ST     0.065782   0.055064  0.018392   0.045847   0.044360   0.052072\n",
            "ATCO-B.ST  0.055064   0.112399  0.018364   0.063907   0.045193   0.065697\n",
            "AZN.ST     0.018392   0.018364  0.066109   0.019749   0.012217   0.010271\n",
            "INVE-B.ST  0.045847   0.063907  0.019749   0.067129   0.045742   0.054089\n",
            "NDA-SE.ST  0.044360   0.045193  0.012217   0.045742   0.088059   0.056912\n",
            "VOLV-B.ST  0.052072   0.065697  0.010271   0.054089   0.056912   0.101644\n"
          ]
        }
      ]
    },
    {
      "cell_type": "code",
      "source": [
        "#Deriving the correlation matrix\n",
        "returns_corr = stock_returns.corr()\n",
        "print(returns_corr)"
      ],
      "metadata": {
        "colab": {
          "base_uri": "https://localhost:8080/"
        },
        "id": "Dj2PJJ6orBu_",
        "outputId": "84c0d84d-8406-498f-acb3-9fe9d72a810c"
      },
      "execution_count": null,
      "outputs": [
        {
          "output_type": "stream",
          "name": "stdout",
          "text": [
            "             ABB.ST  ATCO-B.ST    AZN.ST  INVE-B.ST  NDA-SE.ST  VOLV-B.ST\n",
            "ABB.ST     1.000000   0.640373  0.278904   0.689930   0.582839   0.636809\n",
            "ATCO-B.ST  0.640373   1.000000  0.213040   0.735714   0.454260   0.614644\n",
            "AZN.ST     0.278904   0.213040  1.000000   0.296457   0.160115   0.125293\n",
            "INVE-B.ST  0.689930   0.735714  0.296457   1.000000   0.594936   0.654803\n",
            "NDA-SE.ST  0.582839   0.454260  0.160115   0.594936   1.000000   0.601559\n",
            "VOLV-B.ST  0.636809   0.614644  0.125293   0.654803   0.601559   1.000000\n"
          ]
        }
      ]
    },
    {
      "cell_type": "code",
      "source": [
        "#Heat map depicting correlation between stocks\n",
        "fig, ax = plt.subplots(figsize=(4,4))\n",
        "im = ax.imshow(returns_corr, interpolation='nearest', vmin=-1, vmax=1)\n",
        "\n",
        "stocks_order = np.arange(len(stocks))\n",
        "\n",
        "#Aligning axes' names to the middle\n",
        "ax.set_xticks(np.arange(len(stocks)))\n",
        "ax.set_yticks(np.arange(len(stocks)))\n",
        "\n",
        "#Setting the axes' names using stocks list\n",
        "ax.set_xticklabels(returns_corr, fontsize=6)\n",
        "ax.set_yticklabels(returns_corr, fontsize=6)\n",
        "\n",
        "fig.colorbar(im, orientation='vertical', fraction = 0.0453)"
      ],
      "metadata": {
        "colab": {
          "base_uri": "https://localhost:8080/",
          "height": 358
        },
        "id": "rLX9vDQDogcw",
        "outputId": "48e8ca31-f8bd-4d59-9e8c-9e6b97a46f68"
      },
      "execution_count": null,
      "outputs": [
        {
          "output_type": "execute_result",
          "data": {
            "text/plain": [
              "<matplotlib.colorbar.Colorbar at 0x7feb02041ed0>"
            ]
          },
          "metadata": {},
          "execution_count": 128
        },
        {
          "output_type": "display_data",
          "data": {
            "text/plain": [
              "<Figure size 400x400 with 2 Axes>"
            ],
            "image/png": "[encoded data removed]"
          },
          "metadata": {}
        }
      ]
    },
    {
      "cell_type": "markdown",
      "source": [
        "The heat map shows that the stocks used in this exercise show a rather higher positive correlation with each other apart from AstraZeneca which displays a lower positive correlation. However, all the stocks show positive correlation which is expected as the stocks are driven by the market conditions and when the market is booming/falling, the stocks would more or less follow the same pattern. "
      ],
      "metadata": {
        "id": "CHYDmbLzxeFT"
      }
    },
    {
      "cell_type": "code",
      "source": [
        "#Retrieving riskbank rate using BeautifulSoup and requests\n",
        "url=\"https://www.riksbank.se/en-gb/statistics/swestr/\"\n",
        "response= requests.get(url)\n",
        "\n",
        "soup= BeautifulSoup(response.content, \"html.parser\")\n",
        "\n",
        "riksbank_rate = soup.find(\"div\", class_=\"data-block__value\")\n",
        "\n",
        "#Cleaning the retrieved text and converting the string value to a float\n",
        "risk_free= float(riksbank_rate.text.strip().replace(\"%\",\"\"))/100\n",
        "print(risk_free)"
      ],
      "metadata": {
        "colab": {
          "base_uri": "https://localhost:8080/"
        },
        "id": "cIZoBr0WJhFq",
        "outputId": "f69e0039-9ee9-47e0-b695-0c5c9c9c639c"
      },
      "execution_count": null,
      "outputs": [
        {
          "output_type": "stream",
          "name": "stdout",
          "text": [
            "0.033929999999999995\n"
          ]
        }
      ]
    },
    {
      "cell_type": "markdown",
      "source": [
        "Since we have taken stocks trading on OMXS30, the Swedish krona Short Term Rate (SWESTR) rate by the Swedish Riksbank has been used to calculate the optimized portfolio as the risk free rate. The above code snippet shows the method used in retrieving the SWESTR by webscraping the riksbank website using **BeautifulSoup** and **request** python libraries"
      ],
      "metadata": {
        "id": "kW8tgQX_5ERT"
      }
    },
    {
      "cell_type": "code",
      "source": [
        "#Optimization of the portfolio inline with the maximum sharpe ratio\n",
        "ef = EfficientFrontier(mu, returns_cov)\n",
        "portfolio = ef.max_sharpe(risk_free)\n",
        "\n",
        "portfolio_data = [{'Stock': asset, 'Allocation(%)': allocation*100} for asset, allocation in portfolio.items()]\n",
        "\n",
        "print(tabulate(portfolio_data,headers= 'keys', tablefmt='github', showindex=False))"
      ],
      "metadata": {
        "colab": {
          "base_uri": "https://localhost:8080/"
        },
        "id": "nLLU_ANnWnq3",
        "outputId": "26d1ccb9-9d38-4173-c103-765134acb173"
      },
      "execution_count": null,
      "outputs": [
        {
          "output_type": "stream",
          "name": "stdout",
          "text": [
            "| Stock     |   Allocation(%) |\n",
            "|-----------|-----------------|\n",
            "| ABB.ST    |         31.193  |\n",
            "| ATCO-B.ST |         10.2452 |\n",
            "| AZN.ST    |         37.5896 |\n",
            "| INVE-B.ST |         20.9723 |\n",
            "| NDA-SE.ST |          0      |\n",
            "| VOLV-B.ST |          0      |\n"
          ]
        }
      ]
    },
    {
      "cell_type": "code",
      "source": [
        "#Evaulating the performance of the portfolio\n",
        "ef.portfolio_performance(verbose=True,risk_free_rate=risk_free)"
      ],
      "metadata": {
        "colab": {
          "base_uri": "https://localhost:8080/"
        },
        "id": "KM6Y8LdeSUPi",
        "outputId": "6f5dfb9c-524a-48cc-9502-8280662c713b"
      },
      "execution_count": null,
      "outputs": [
        {
          "output_type": "stream",
          "name": "stdout",
          "text": [
            "Expected annual return: 18.4%\n",
            "Annual volatility: 20.2%\n",
            "Sharpe Ratio: 0.74\n"
          ]
        },
        {
          "output_type": "execute_result",
          "data": {
            "text/plain": [
              "(0.1836255755091389, 0.20243428280447348, 0.7394773920469112)"
            ]
          },
          "metadata": {},
          "execution_count": 131
        }
      ]
    },
    {
      "cell_type": "markdown",
      "source": [
        "The stocks are allocated among only four companies as the the return from the other two stocks are below par. Therefore, according to the given stocks and the time period, a maximum sharpe ratio of 0.74 can be obtained with an annual return of 18.4% along with a volatility of 20.2%."
      ],
      "metadata": {
        "id": "KHXwMVx0Cj2c"
      }
    },
    {
      "cell_type": "markdown",
      "source": [
        "###Applying constraints on the stock allocation\n",
        "\n",
        "In case we want to set a maximum allocation to individual stocks to increase diversification, we could use the **weight_bounds** parameter within the **EfficientFrontier** function to define a minimum and a maximum allcation."
      ],
      "metadata": {
        "id": "UauYkSwP87-l"
      }
    },
    {
      "cell_type": "code",
      "source": [
        "#Applying a maximum constraint of 20% on each stock\n",
        "ef2 = EfficientFrontier(mu, returns_cov, weight_bounds=(0,0.2))\n",
        "portfolio2 = ef2.max_sharpe(risk_free)\n",
        "\n",
        "portfolio2_data = [{'Stock': asset, 'Allocation(%)': allocation*100} for asset, allocation in portfolio2.items()]\n",
        "\n",
        "print(tabulate(portfolio2_data,headers= 'keys', tablefmt='github', showindex=False))"
      ],
      "metadata": {
        "colab": {
          "base_uri": "https://localhost:8080/"
        },
        "id": "GPfkZCrEYOf_",
        "outputId": "98acf790-6f8e-4c5a-b9b1-4c507ed4c7d6"
      },
      "execution_count": null,
      "outputs": [
        {
          "output_type": "stream",
          "name": "stdout",
          "text": [
            "| Stock     |   Allocation(%) |\n",
            "|-----------|-----------------|\n",
            "| ABB.ST    |        20       |\n",
            "| ATCO-B.ST |        20       |\n",
            "| AZN.ST    |        20       |\n",
            "| INVE-B.ST |        20       |\n",
            "| NDA-SE.ST |        10.0991  |\n",
            "| VOLV-B.ST |         9.90089 |\n"
          ]
        }
      ]
    },
    {
      "cell_type": "code",
      "source": [
        "ef2.portfolio_performance(verbose=True,risk_free_rate=risk_free)"
      ],
      "metadata": {
        "colab": {
          "base_uri": "https://localhost:8080/"
        },
        "id": "pKmHnU1UmT08",
        "outputId": "e42a1f13-131e-4fdb-b0e8-8e2761fea589"
      },
      "execution_count": null,
      "outputs": [
        {
          "output_type": "stream",
          "name": "stdout",
          "text": [
            "Expected annual return: 17.9%\n",
            "Annual volatility: 21.5%\n",
            "Sharpe Ratio: 0.68\n"
          ]
        },
        {
          "output_type": "execute_result",
          "data": {
            "text/plain": [
              "(0.17936882815404304, 0.21533036575037903, 0.6754218228684128)"
            ]
          },
          "metadata": {},
          "execution_count": 133
        }
      ]
    },
    {
      "cell_type": "markdown",
      "source": [
        "As expected the stocks with the highest return have been capped at 20% allocation and the remainder has been almost equally divided between Nordea Abp and AB Volvo. The performance has slightly decreased compared to the previous instance, with a marginal decrease in annual return and the sharpe ratio while the volatility has increased by 1.3 ppt."
      ],
      "metadata": {
        "id": "iMbtcFO5Gl7G"
      }
    }
  ]
}
