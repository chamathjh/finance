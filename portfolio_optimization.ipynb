{
  "nbformat": 4,
  "nbformat_minor": 0,
  "metadata": {
    "colab": {
      "provenance": [],
      "authorship_tag": "ABX9TyNgW6LbaMm8caJILAXHEJF8",
      "include_colab_link": true
    },
    "kernelspec": {
      "name": "python3",
      "display_name": "Python 3"
    },
    "language_info": {
      "name": "python"
    }
  },
  "cells": [
    {
      "cell_type": "markdown",
      "metadata": {
        "id": "view-in-github",
        "colab_type": "text"
      },
      "source": [
        "<a href=\"https://colab.research.google.com/github/chamathjh/finance/blob/main/portfolio_optimization.ipynb\" target=\"_parent\"><img src=\"https://colab.research.google.com/assets/colab-badge.svg\" alt=\"Open In Colab\"/></a>"
      ]
    },
    {
      "cell_type": "markdown",
      "source": [
        "#Mean Variance Portfolio Optimization\n",
        "\n",
        "---\n",
        "\n",
        "The mean-variance portfolio approach involves adjusting the weights of stocks in a portfolio to optimize the return relative to the risk. To achieve this, certain parameters must be estimated, including the expected return for each stock and the variance-covariance matrix of the stock returns. These parameters are necessary when assuming normal distribution or quadratic utility functions for investors. Once the parameters are determined, the portfolio variance is minimized given a target expected return, or equivalently, the expected return is maximized given the portfolio variance. This nonlinear optimization process results in the efficient frontier. Lastly, assuming a risk-free rate, the portfolio point on the frontier with the highest Sharpe ratio is identified."
      ],
      "metadata": {
        "id": "rdn-l-wJJQGk"
      }
    },
    {
      "cell_type": "markdown",
      "source": [
        "##Installing Packages"
      ],
      "metadata": {
        "id": "qGXumChoBFu4"
      }
    },
    {
      "cell_type": "code",
      "source": [
        "!pip install PyPortfolioOpt\n",
        "!pip install yfinance\n",
        "!pip install tabulate"
      ],
      "metadata": {
        "id": "j3Pa9INgBPL7"
      },
      "execution_count": null,
      "outputs": []
    },
    {
      "cell_type": "markdown",
      "source": [
        "##Load Python Libraries"
      ],
      "metadata": {
        "id": "NpFDQ6oUChO3"
      }
    },
    {
      "cell_type": "code",
      "source": [
        "import numpy as np\n",
        "import pandas as pd\n",
        "from pandas_datareader import data as pdr\n",
        "import datetime as dt\n",
        "import yfinance as yf\n",
        "from matplotlib import pyplot as plt\n",
        "from pypfopt import EfficientFrontier\n",
        "from pypfopt import risk_models\n",
        "from pypfopt import expected_returns\n",
        "from pypfopt import plotting\n",
        "from tabulate import tabulate\n",
        "import requests\n",
        "from bs4 import BeautifulSoup"
      ],
      "metadata": {
        "id": "ExW7PhdCBzpc"
      },
      "execution_count": 2,
      "outputs": []
    },
    {
      "cell_type": "markdown",
      "source": [
        "##Establishing Model Environment\n",
        "\n",
        "We start by defining the model environment, which includes retrieving stock price data from Yahoo Finance through yfinance API for the tickers mentioned below. Note that the adjusted closing price has been extracted to form the dataframe."
      ],
      "metadata": {
        "id": "0bbDJcqcV4fA"
      }
    },
    {
      "cell_type": "code",
      "source": [
        "#Defining a function to retrieve data from Yahoo Finance\n",
        "def get_data(stocks,start_date,end_date):\n",
        "  stock_data= yf.download(stocks, start=start_date, end=end_date)[\"Adj Close\"]\n",
        "  return stock_data"
      ],
      "metadata": {
        "id": "jJew8PBNETMv"
      },
      "execution_count": 3,
      "outputs": []
    },
    {
      "cell_type": "markdown",
      "source": [
        "The period used for this model is dynamic as it is defined to retrive the latest available data from the exchange, starting from the **start_date** mentioned below."
      ],
      "metadata": {
        "id": "-KFNjzvLeSvi"
      }
    },
    {
      "cell_type": "code",
      "source": [
        "#Defining data period\n",
        "start_date=\"2020-01-01\"\n",
        "end_date= dt.datetime.now().strftime(\"%Y-%m-%d\")"
      ],
      "metadata": {
        "id": "C3KYV5QRGdFC"
      },
      "execution_count": 4,
      "outputs": []
    },
    {
      "cell_type": "markdown",
      "source": [
        "The following stocks trading on Nasdaq Stockholm(OMXS30) were chosen for this exercise.\n",
        "* AstraZeneca (AZN.ST)\n",
        "* Atlas Copco AB (ATCO-B.ST)\n",
        "* ABB Ltd. (ABB.ST)\n",
        "* Investor AB (INVE-B.ST)\n",
        "* AB Volvo (VOLV-B.ST)\n",
        "* Nordea Bank ABP (NDA-SE.ST)"
      ],
      "metadata": {
        "id": "5f4UfG_zbSCy"
      }
    },
    {
      "cell_type": "code",
      "source": [
        "#Defining the set of stock tickers\n",
        "stocks = [\"AZN.ST\", \"ATCO-B.ST\", \"ABB.ST\", \"INVE-B.ST\", \"VOLV-B.ST\", \"NDA-SE.ST\"]"
      ],
      "metadata": {
        "id": "uqIUx_akLN4E"
      },
      "execution_count": 5,
      "outputs": []
    },
    {
      "cell_type": "code",
      "source": [
        "#Downloading stock data\n",
        "stock_df = get_data(stocks, start_date, end_date)\n",
        "print(stock_df)"
      ],
      "metadata": {
        "colab": {
          "base_uri": "https://localhost:8080/"
        },
        "id": "ZVPZzQcKH04t",
        "outputId": "4e7d6c3d-de68-498c-b04e-75ebdc296493"
      },
      "execution_count": 6,
      "outputs": [
        {
          "output_type": "stream",
          "name": "stdout",
          "text": [
            "[*********************100%***********************]  6 of 6 completed\n",
            "                ABB.ST   ATCO-B.ST       AZN.ST   INVE-B.ST   NDA-SE.ST  \\\n",
            "Date                                                                      \n",
            "2020-01-02  224.803116   70.861885   935.406555  121.484894   75.626678   \n",
            "2020-01-03  224.212296   69.697800   935.605164  120.137657   74.907249   \n",
            "2020-01-07  226.378601   70.057610   938.781128  120.323479   74.771149   \n",
            "2020-01-08  226.870956   69.951775   936.399048  120.277016   74.372543   \n",
            "2020-01-09  226.378601   70.565575   943.644104  121.252609   74.625320   \n",
            "...                ...         ...          ...         ...         ...   \n",
            "2023-06-01  400.899994  135.699997  1581.500000  221.750000  108.459999   \n",
            "2023-06-02  403.500000  137.600006  1579.000000  221.800003  110.699997   \n",
            "2023-06-05  406.799988  137.449997  1590.500000  220.350006  110.519997   \n",
            "2023-06-07  408.000000  137.350006  1591.500000  219.699997  113.260002   \n",
            "2023-06-08  410.000000  138.300003  1592.000000  218.500000  113.339996   \n",
            "\n",
            "             VOLV-B.ST  \n",
            "Date                    \n",
            "2020-01-02  131.178085  \n",
            "2020-01-03  128.281143  \n",
            "2020-01-07  129.382812  \n",
            "2020-01-08  130.158035  \n",
            "2020-01-09  127.954727  \n",
            "...                ...  \n",
            "2023-06-01  202.850006  \n",
            "2023-06-02  207.850006  \n",
            "2023-06-05  209.500000  \n",
            "2023-06-07  212.300003  \n",
            "2023-06-08  213.699997  \n",
            "\n",
            "[866 rows x 6 columns]\n"
          ]
        }
      ]
    },
    {
      "cell_type": "markdown",
      "source": [
        "Plotting the stock price behavior during the observed period."
      ],
      "metadata": {
        "id": "oWvXotoDgtAc"
      }
    },
    {
      "cell_type": "code",
      "source": [
        "plt.plot(stock_df.iloc[:,0:6])\n",
        "plt.legend(stock_df)\n",
        "plt.xlabel('Time')\n",
        "plt.ylabel('Adj. Closing Stock Price ($)')\n",
        "plt.title('Stock Price Movement from {} to {}'.format(start_date,end_date))\n",
        "plt.show()"
      ],
      "metadata": {
        "colab": {
          "base_uri": "https://localhost:8080/",
          "height": 472
        },
        "id": "2UMJ7JM7Yo6h",
        "outputId": "c1c9c708-089e-4fe7-d44a-1f9c39874183"
      },
      "execution_count": 7,
      "outputs": [
        {
          "output_type": "display_data",
          "data": {
            "text/plain": [
              "<Figure size 640x480 with 1 Axes>"
            ],
            "image/png": "[encoded data removed]"
          },
          "metadata": {}
        }
      ]
    },
    {
      "cell_type": "markdown",
      "source": [
        "It's clearly visible from the graph AstraZeneca has been trading at a higher value than the rest, but has followed a similar path over the selected time period."
      ],
      "metadata": {
        "id": "UZyiltk3hGCy"
      }
    },
    {
      "cell_type": "markdown",
      "source": [
        "##Portfolio Optimization\n",
        "\n",
        "Now we need to calculate stock returns using the `pct_change()` function"
      ],
      "metadata": {
        "id": "I9298ErWTovL"
      }
    },
    {
      "cell_type": "code",
      "source": [
        "#Calculating stock_returns\n",
        "stock_returns = stock_df.pct_change()\n",
        "print(stock_returns)"
      ],
      "metadata": {
        "colab": {
          "base_uri": "https://localhost:8080/"
        },
        "id": "oXwviYaMUX5y",
        "outputId": "8eae7bf8-1e9a-4d03-e2f7-45dba4727f9e"
      },
      "execution_count": 8,
      "outputs": [
        {
          "output_type": "stream",
          "name": "stdout",
          "text": [
            "              ABB.ST  ATCO-B.ST    AZN.ST  INVE-B.ST  NDA-SE.ST  VOLV-B.ST\n",
            "Date                                                                      \n",
            "2020-01-02       NaN        NaN       NaN        NaN        NaN        NaN\n",
            "2020-01-03 -0.002628  -0.016428  0.000212  -0.011090  -0.009513  -0.022084\n",
            "2020-01-07  0.009662   0.005162  0.003395   0.001547  -0.001817   0.008588\n",
            "2020-01-08  0.002175  -0.001511 -0.002537  -0.000386  -0.005331   0.005992\n",
            "2020-01-09 -0.002170   0.008775  0.007737   0.008111   0.003399  -0.016928\n",
            "...              ...        ...       ...        ...        ...        ...\n",
            "2023-06-01 -0.011100  -0.006589  0.016715   0.004985   0.016685   0.012984\n",
            "2023-06-02  0.006485   0.014002 -0.001581   0.000225   0.020653   0.024649\n",
            "2023-06-05  0.008178  -0.001090  0.007283  -0.006537  -0.001626   0.007938\n",
            "2023-06-07  0.002950  -0.000727  0.000629  -0.002950   0.024792   0.013365\n",
            "2023-06-08  0.004902   0.006917  0.000314  -0.005462   0.000706   0.006594\n",
            "\n",
            "[866 rows x 6 columns]\n"
          ]
        }
      ]
    },
    {
      "cell_type": "code",
      "source": [
        "#Calculating expected return for the stock data using the expected_return module in pypfopt library\n",
        "mu= expected_returns.mean_historical_return(stock_df)\n",
        "print(mu)"
      ],
      "metadata": {
        "colab": {
          "base_uri": "https://localhost:8080/"
        },
        "id": "qRcdgcHrT5GW",
        "outputId": "1fc2461d-69c3-4a6a-a2cc-4a20a5a1af45"
      },
      "execution_count": 9,
      "outputs": [
        {
          "output_type": "stream",
          "name": "stdout",
          "text": [
            "ABB.ST       0.191329\n",
            "ATCO-B.ST    0.215080\n",
            "AZN.ST       0.167563\n",
            "INVE-B.ST    0.186502\n",
            "NDA-SE.ST    0.125094\n",
            "VOLV-B.ST    0.152777\n",
            "dtype: float64\n"
          ]
        }
      ]
    },
    {
      "cell_type": "code",
      "source": [
        "#Deriving the covariance matrix\n",
        "returns_cov = stock_returns.cov()*252\n",
        "print(returns_cov)"
      ],
      "metadata": {
        "colab": {
          "base_uri": "https://localhost:8080/"
        },
        "id": "6Bxmwlv2VPwS",
        "outputId": "87d22e6f-3c8d-4b15-95d1-54fdeeb034e6"
      },
      "execution_count": 10,
      "outputs": [
        {
          "output_type": "stream",
          "name": "stdout",
          "text": [
            "             ABB.ST  ATCO-B.ST    AZN.ST  INVE-B.ST  NDA-SE.ST  VOLV-B.ST\n",
            "ABB.ST     0.065711   0.055007  0.018371   0.045787   0.044308   0.052019\n",
            "ATCO-B.ST  0.055007   0.112279  0.018342   0.063822   0.045141   0.065631\n",
            "AZN.ST     0.018371   0.018342  0.066033   0.019727   0.012202   0.010258\n",
            "INVE-B.ST  0.045787   0.063822  0.019727   0.067063   0.045689   0.054016\n",
            "NDA-SE.ST  0.044308   0.045141  0.012202   0.045689   0.087957   0.056847\n",
            "VOLV-B.ST  0.052019   0.065631  0.010258   0.054016   0.056847   0.101537\n"
          ]
        }
      ]
    },
    {
      "cell_type": "code",
      "source": [
        "#Deriving the correlation matrix\n",
        "returns_corr = stock_returns.corr()\n",
        "print(returns_corr)"
      ],
      "metadata": {
        "colab": {
          "base_uri": "https://localhost:8080/"
        },
        "id": "Dj2PJJ6orBu_",
        "outputId": "394c5096-fd7f-4ea8-b96e-c475a4d6f560"
      },
      "execution_count": 11,
      "outputs": [
        {
          "output_type": "stream",
          "name": "stdout",
          "text": [
            "             ABB.ST  ATCO-B.ST    AZN.ST  INVE-B.ST  NDA-SE.ST  VOLV-B.ST\n",
            "ABB.ST     1.000000   0.640402  0.278886   0.689733   0.582818   0.636839\n",
            "ATCO-B.ST  0.640402   1.000000  0.213022   0.735492   0.454240   0.614681\n",
            "AZN.ST     0.278886   0.213022  1.000000   0.296444   0.160115   0.125278\n",
            "INVE-B.ST  0.689733   0.735492  0.296444   1.000000   0.594883   0.654585\n",
            "NDA-SE.ST  0.582818   0.454240  0.160115   0.594883   1.000000   0.601531\n",
            "VOLV-B.ST  0.636839   0.614681  0.125278   0.654585   0.601531   1.000000\n"
          ]
        }
      ]
    },
    {
      "cell_type": "code",
      "source": [
        "#Heat map depicting correlation between stocks\n",
        "fig, ax = plt.subplots(figsize=(4,4))\n",
        "im = ax.imshow(returns_corr, interpolation='nearest', vmin=-1, vmax=1)\n",
        "\n",
        "stocks_order = np.arange(len(stocks))\n",
        "\n",
        "#Aligning axes' names to the middle\n",
        "ax.set_xticks(np.arange(len(stocks)))\n",
        "ax.set_yticks(np.arange(len(stocks)))\n",
        "\n",
        "#Setting the axes' names using stocks list\n",
        "ax.set_xticklabels(returns_corr, fontsize=6)\n",
        "ax.set_yticklabels(returns_corr, fontsize=6)\n",
        "\n",
        "fig.colorbar(im, orientation='vertical', fraction = 0.0453)"
      ],
      "metadata": {
        "colab": {
          "base_uri": "https://localhost:8080/",
          "height": 358
        },
        "id": "rLX9vDQDogcw",
        "outputId": "1643ac69-9e5e-4e02-88a3-9822dbabd762"
      },
      "execution_count": 12,
      "outputs": [
        {
          "output_type": "execute_result",
          "data": {
            "text/plain": [
              "<matplotlib.colorbar.Colorbar at 0x7f40c3ef7850>"
            ]
          },
          "metadata": {},
          "execution_count": 12
        },
        {
          "output_type": "display_data",
          "data": {
            "text/plain": [
              "<Figure size 400x400 with 2 Axes>"
            ],
            "image/png": "[encoded data removed]"
          },
          "metadata": {}
        }
      ]
    },
    {
      "cell_type": "markdown",
      "source": [
        "The heat map shows that the stocks used in this exercise show a rather higher positive correlation with each other apart from AstraZeneca which displays a lower positive correlation. However, all the stocks show positive correlation which is expected as the stocks are driven by the market conditions and when the market is booming/falling, the stocks would more or less follow the same pattern. "
      ],
      "metadata": {
        "id": "CHYDmbLzxeFT"
      }
    },
    {
      "cell_type": "code",
      "source": [
        "#Retrieving riskbank rate using BeautifulSoup and requests\n",
        "url=\"https://www.riksbank.se/en-gb/statistics/swestr/\"\n",
        "response= requests.get(url)\n",
        "\n",
        "soup= BeautifulSoup(response.content, \"html.parser\")\n",
        "\n",
        "riksbank_rate = soup.find(\"div\", class_=\"data-block__value\")\n",
        "\n",
        "#Cleaning the retrieved text and converting the string value to a float\n",
        "risk_free= float(riksbank_rate.text.strip().replace(\"%\",\"\"))/100\n",
        "print(risk_free)"
      ],
      "metadata": {
        "colab": {
          "base_uri": "https://localhost:8080/"
        },
        "id": "cIZoBr0WJhFq",
        "outputId": "52ff55aa-98ea-4ba6-d5da-8834ad108d0b"
      },
      "execution_count": 13,
      "outputs": [
        {
          "output_type": "stream",
          "name": "stdout",
          "text": [
            "0.033889999999999997\n"
          ]
        }
      ]
    },
    {
      "cell_type": "markdown",
      "source": [
        "Since we have taken stocks trading on OMXS30, the Swedish krona Short Term Rate (SWESTR) rate by the Swedish Riksbank has been used to calculate the optimized portfolio as the risk free rate. The above code snippet shows the method used in retrieving the SWESTR by webscraping the riksbank website using **BeautifulSoup** and **request** python libraries"
      ],
      "metadata": {
        "id": "kW8tgQX_5ERT"
      }
    },
    {
      "cell_type": "code",
      "source": [
        "#Optimization of the portfolio inline with the maximum sharpe ratio\n",
        "ef = EfficientFrontier(mu, returns_cov)\n",
        "portfolio = ef.max_sharpe(risk_free)\n",
        "\n",
        "portfolio_data = [{'Stock': asset, 'Allocation(%)': allocation*100} for asset, allocation in portfolio.items()]\n",
        "\n",
        "print(tabulate(portfolio_data,headers= 'keys', tablefmt='github', showindex=False))"
      ],
      "metadata": {
        "colab": {
          "base_uri": "https://localhost:8080/"
        },
        "id": "nLLU_ANnWnq3",
        "outputId": "fcbbf87b-3d1e-458e-9f9e-98bec6d98070"
      },
      "execution_count": 14,
      "outputs": [
        {
          "output_type": "stream",
          "name": "stdout",
          "text": [
            "| Stock     |   Allocation(%) |\n",
            "|-----------|-----------------|\n",
            "| ABB.ST    |         32.9249 |\n",
            "| ATCO-B.ST |         12.1131 |\n",
            "| AZN.ST    |         37.7685 |\n",
            "| INVE-B.ST |         17.1935 |\n",
            "| NDA-SE.ST |          0      |\n",
            "| VOLV-B.ST |          0      |\n"
          ]
        }
      ]
    },
    {
      "cell_type": "code",
      "source": [
        "#Evaulating the performance of the portfolio\n",
        "ef.portfolio_performance(verbose=True,risk_free_rate=risk_free)"
      ],
      "metadata": {
        "colab": {
          "base_uri": "https://localhost:8080/"
        },
        "id": "KM6Y8LdeSUPi",
        "outputId": "18038300-45d3-4e07-f09d-ccf2260c6882"
      },
      "execution_count": 15,
      "outputs": [
        {
          "output_type": "stream",
          "name": "stdout",
          "text": [
            "Expected annual return: 18.4%\n",
            "Annual volatility: 20.3%\n",
            "Sharpe Ratio: 0.74\n"
          ]
        },
        {
          "output_type": "execute_result",
          "data": {
            "text/plain": [
              "(0.1843999340103467, 0.20300661414168017, 0.7414040899441062)"
            ]
          },
          "metadata": {},
          "execution_count": 15
        }
      ]
    },
    {
      "cell_type": "markdown",
      "source": [
        "The stocks are allocated among only four companies as the the return from the other two stocks are below par. Therefore, according to the given stocks and the time period, a maximum sharpe ratio of 0.74 can be obtained with an annual return of 18.4% along with a volatility of 20.3%."
      ],
      "metadata": {
        "id": "KHXwMVx0Cj2c"
      }
    },
    {
      "cell_type": "markdown",
      "source": [
        "###Applying constraints on the stock allocation\n",
        "\n",
        "In case we want to set a maximum allocation to individual stocks to increase diversification, we could use the **weight_bounds** parameter within the **EfficientFrontier** function to define a minimum and a maximum allcation."
      ],
      "metadata": {
        "id": "UauYkSwP87-l"
      }
    },
    {
      "cell_type": "code",
      "source": [
        "#Applying a maximum constraint of 20% on each stock\n",
        "ef2 = EfficientFrontier(mu, returns_cov, weight_bounds=(0,0.2))\n",
        "portfolio2 = ef2.max_sharpe(risk_free)\n",
        "\n",
        "portfolio2_data = [{'Stock': asset, 'Allocation(%)': allocation*100} for asset, allocation in portfolio2.items()]\n",
        "\n",
        "print(tabulate(portfolio2_data,headers= 'keys', tablefmt='github', showindex=False))"
      ],
      "metadata": {
        "colab": {
          "base_uri": "https://localhost:8080/"
        },
        "id": "GPfkZCrEYOf_",
        "outputId": "34f417e9-6bb6-400f-da61-135406e6426e"
      },
      "execution_count": 16,
      "outputs": [
        {
          "output_type": "stream",
          "name": "stdout",
          "text": [
            "| Stock     |   Allocation(%) |\n",
            "|-----------|-----------------|\n",
            "| ABB.ST    |         20      |\n",
            "| ATCO-B.ST |         20      |\n",
            "| AZN.ST    |         20      |\n",
            "| INVE-B.ST |         20      |\n",
            "| NDA-SE.ST |          9.3124 |\n",
            "| VOLV-B.ST |         10.6876 |\n"
          ]
        }
      ]
    },
    {
      "cell_type": "code",
      "source": [
        "ef2.portfolio_performance(verbose=True,risk_free_rate=risk_free)"
      ],
      "metadata": {
        "colab": {
          "base_uri": "https://localhost:8080/"
        },
        "id": "pKmHnU1UmT08",
        "outputId": "59f4decc-abc8-4a7f-ab95-5db87a616531"
      },
      "execution_count": 17,
      "outputs": [
        {
          "output_type": "stream",
          "name": "stdout",
          "text": [
            "Expected annual return: 18.0%\n",
            "Annual volatility: 21.6%\n",
            "Sharpe Ratio: 0.68\n"
          ]
        },
        {
          "output_type": "execute_result",
          "data": {
            "text/plain": [
              "(0.18007220993565604, 0.21551713704183573, 0.6782857824771469)"
            ]
          },
          "metadata": {},
          "execution_count": 17
        }
      ]
    },
    {
      "cell_type": "markdown",
      "source": [
        "As expected the stocks with the highest return have been capped at 20% allocation and the remainder has been almost equally divided between Nordea Abp and AB Volvo. The performance has slightly decreased compared to the previous instance, with a marginal decrease in annual return and the sharpe ratio while the volatility has increased by 1.3 ppt."
      ],
      "metadata": {
        "id": "iMbtcFO5Gl7G"
      }
    }
  ]
}